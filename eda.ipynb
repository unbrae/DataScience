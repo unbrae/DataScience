{
  "nbformat": 4,
  "nbformat_minor": 0,
  "metadata": {
    "colab": {
      "name": "eda.ipynb",
      "provenance": [],
      "collapsed_sections": [],
      "authorship_tag": "ABX9TyNdO3gcOehsAk3yBd+zY373",
      "include_colab_link": true
    },
    "kernelspec": {
      "name": "python3",
      "display_name": "Python 3"
    },
    "language_info": {
      "name": "python"
    }
  },
  "cells": [
    {
      "cell_type": "markdown",
      "metadata": {
        "id": "view-in-github",
        "colab_type": "text"
      },
      "source": [
        "<a href=\"https://colab.research.google.com/github/unbrae/DataScience/blob/main/eda.ipynb\" target=\"_parent\"><img src=\"https://colab.research.google.com/assets/colab-badge.svg\" alt=\"Open In Colab\"/></a>"
      ]
    },
    {
      "cell_type": "code",
      "metadata": {
        "id": "pJBdbUqDRKNf"
      },
      "source": [
        "import pandas as pd\n",
        "import numpy as np\n",
        "import matplotlib as mpl\n",
        "import matplotlib.pyplot as plt\n",
        "%matplotlib inline\n",
        "import seaborn as sns"
      ],
      "execution_count": 27,
      "outputs": []
    },
    {
      "cell_type": "markdown",
      "metadata": {
        "id": "lMWzD8s6CeQ_"
      },
      "source": [
        "# **Exploração inicial dos dados do primeiro DataSet**\n",
        "\n",
        "**Working Hours Per Week**"
      ]
    },
    {
      "cell_type": "code",
      "metadata": {
        "colab": {
          "base_uri": "https://localhost:8080/",
          "height": 714
        },
        "id": "LkUZSd_Tn9Pl",
        "outputId": "eaa4b6e4-5bdc-4fcf-db45-4a97987e120e"
      },
      "source": [
        "\n",
        "df1 = pd.read_csv('https://raw.githubusercontent.com/unbrae/DataScience/dataSets/working_hours_per_week.csv')\n",
        "df1 = pd.DataFrame(df1)\n",
        "# Selecionando apenas as Colunas Country e 2015\n",
        "df1 = df1[['country','2015']]\n",
        "\n",
        "print(f'Estrutura do DataFrame\\n')\n",
        "display(df1.shape)\n",
        "print(f'\\nPrimeiras 5 linhas do DataFrame\\n')\n",
        "display(df1.head())\n",
        "print(f'\\nÚltimas 5 linhas do DataFrame\\n')\n",
        "display(df1.tail())\n",
        "print(f'\\nSoma de valores duplicados\\n')  \n",
        "display(df1.country.duplicated().sum())\n",
        "print(f'\\nValor mínimo, máximo e média da coluna 2015\\n')\n",
        "display(df1['2015'].min(),df1['2015'].max(),df1['2015'].mean())"
      ],
      "execution_count": 10,
      "outputs": [
        {
          "output_type": "stream",
          "name": "stdout",
          "text": [
            "Estrutura do DataFrame\n",
            "\n"
          ]
        },
        {
          "output_type": "display_data",
          "data": {
            "text/plain": [
              "(137, 2)"
            ]
          },
          "metadata": {}
        },
        {
          "output_type": "stream",
          "name": "stdout",
          "text": [
            "\n",
            "Primeiras 5 linhas do DataFrame\n",
            "\n"
          ]
        },
        {
          "output_type": "display_data",
          "data": {
            "text/html": [
              "<div>\n",
              "<style scoped>\n",
              "    .dataframe tbody tr th:only-of-type {\n",
              "        vertical-align: middle;\n",
              "    }\n",
              "\n",
              "    .dataframe tbody tr th {\n",
              "        vertical-align: top;\n",
              "    }\n",
              "\n",
              "    .dataframe thead th {\n",
              "        text-align: right;\n",
              "    }\n",
              "</style>\n",
              "<table border=\"1\" class=\"dataframe\">\n",
              "  <thead>\n",
              "    <tr style=\"text-align: right;\">\n",
              "      <th></th>\n",
              "      <th>country</th>\n",
              "      <th>2015</th>\n",
              "    </tr>\n",
              "  </thead>\n",
              "  <tbody>\n",
              "    <tr>\n",
              "      <th>0</th>\n",
              "      <td>Aruba</td>\n",
              "      <td>NaN</td>\n",
              "    </tr>\n",
              "    <tr>\n",
              "      <th>1</th>\n",
              "      <td>Albania</td>\n",
              "      <td>39.6</td>\n",
              "    </tr>\n",
              "    <tr>\n",
              "      <th>2</th>\n",
              "      <td>United Arab Emirates</td>\n",
              "      <td>NaN</td>\n",
              "    </tr>\n",
              "    <tr>\n",
              "      <th>3</th>\n",
              "      <td>Argentina</td>\n",
              "      <td>42.9</td>\n",
              "    </tr>\n",
              "    <tr>\n",
              "      <th>4</th>\n",
              "      <td>Armenia</td>\n",
              "      <td>37.9</td>\n",
              "    </tr>\n",
              "  </tbody>\n",
              "</table>\n",
              "</div>"
            ],
            "text/plain": [
              "                country  2015\n",
              "0                 Aruba   NaN\n",
              "1               Albania  39.6\n",
              "2  United Arab Emirates   NaN\n",
              "3             Argentina  42.9\n",
              "4               Armenia  37.9"
            ]
          },
          "metadata": {}
        },
        {
          "output_type": "stream",
          "name": "stdout",
          "text": [
            "\n",
            "Últimas 5 linhas do DataFrame\n",
            "\n"
          ]
        },
        {
          "output_type": "display_data",
          "data": {
            "text/html": [
              "<div>\n",
              "<style scoped>\n",
              "    .dataframe tbody tr th:only-of-type {\n",
              "        vertical-align: middle;\n",
              "    }\n",
              "\n",
              "    .dataframe tbody tr th {\n",
              "        vertical-align: top;\n",
              "    }\n",
              "\n",
              "    .dataframe thead th {\n",
              "        text-align: right;\n",
              "    }\n",
              "</style>\n",
              "<table border=\"1\" class=\"dataframe\">\n",
              "  <thead>\n",
              "    <tr style=\"text-align: right;\">\n",
              "      <th></th>\n",
              "      <th>country</th>\n",
              "      <th>2015</th>\n",
              "    </tr>\n",
              "  </thead>\n",
              "  <tbody>\n",
              "    <tr>\n",
              "      <th>132</th>\n",
              "      <td>Vietnam</td>\n",
              "      <td>41.3</td>\n",
              "    </tr>\n",
              "    <tr>\n",
              "      <th>133</th>\n",
              "      <td>Samoa</td>\n",
              "      <td>NaN</td>\n",
              "    </tr>\n",
              "    <tr>\n",
              "      <th>134</th>\n",
              "      <td>Yemen</td>\n",
              "      <td>NaN</td>\n",
              "    </tr>\n",
              "    <tr>\n",
              "      <th>135</th>\n",
              "      <td>South Africa</td>\n",
              "      <td>43.3</td>\n",
              "    </tr>\n",
              "    <tr>\n",
              "      <th>136</th>\n",
              "      <td>Zimbabwe</td>\n",
              "      <td>NaN</td>\n",
              "    </tr>\n",
              "  </tbody>\n",
              "</table>\n",
              "</div>"
            ],
            "text/plain": [
              "          country  2015\n",
              "132       Vietnam  41.3\n",
              "133         Samoa   NaN\n",
              "134         Yemen   NaN\n",
              "135  South Africa  43.3\n",
              "136      Zimbabwe   NaN"
            ]
          },
          "metadata": {}
        },
        {
          "output_type": "stream",
          "name": "stdout",
          "text": [
            "\n",
            "Soma de valores duplicados\n",
            "\n"
          ]
        },
        {
          "output_type": "display_data",
          "data": {
            "text/plain": [
              "0"
            ]
          },
          "metadata": {}
        },
        {
          "output_type": "stream",
          "name": "stdout",
          "text": [
            "\n",
            "Valor mínimo, máximo e média da coluna 2015\n",
            "\n"
          ]
        },
        {
          "output_type": "display_data",
          "data": {
            "text/plain": [
              "32.4"
            ]
          },
          "metadata": {}
        },
        {
          "output_type": "display_data",
          "data": {
            "text/plain": [
              "50.0"
            ]
          },
          "metadata": {}
        },
        {
          "output_type": "display_data",
          "data": {
            "text/plain": [
              "40.23033707865167"
            ]
          },
          "metadata": {}
        }
      ]
    },
    {
      "cell_type": "markdown",
      "metadata": {
        "id": "iUbxVG01DSwZ"
      },
      "source": [
        "# **Efetuando Reshape do DataSet *Woking Hours Per Week***\n",
        "\n",
        "\n",
        "*   Utilizei o comando *melt()* do Pandas para inveter a coluna *2015* para linha.\n",
        "*   Em seguida renomear a nova coluna para *Year* e dar o nome da coluna dos valores para *Hours*.\n",
        "\n"
      ]
    },
    {
      "cell_type": "code",
      "metadata": {
        "colab": {
          "base_uri": "https://localhost:8080/",
          "height": 419
        },
        "id": "CzPkF2n9oYM_",
        "outputId": "44f7b4d5-d7f2-48e7-b4d5-52a583b0c059"
      },
      "source": [
        "\n",
        "df1 = pd.melt(df1,id_vars=['country'],var_name='Year',value_name='Hours')\n",
        "df1 = df1.rename(columns={'country':'Country'})\n",
        "\n",
        "df1"
      ],
      "execution_count": 11,
      "outputs": [
        {
          "output_type": "execute_result",
          "data": {
            "text/html": [
              "<div>\n",
              "<style scoped>\n",
              "    .dataframe tbody tr th:only-of-type {\n",
              "        vertical-align: middle;\n",
              "    }\n",
              "\n",
              "    .dataframe tbody tr th {\n",
              "        vertical-align: top;\n",
              "    }\n",
              "\n",
              "    .dataframe thead th {\n",
              "        text-align: right;\n",
              "    }\n",
              "</style>\n",
              "<table border=\"1\" class=\"dataframe\">\n",
              "  <thead>\n",
              "    <tr style=\"text-align: right;\">\n",
              "      <th></th>\n",
              "      <th>Country</th>\n",
              "      <th>Year</th>\n",
              "      <th>Hours</th>\n",
              "    </tr>\n",
              "  </thead>\n",
              "  <tbody>\n",
              "    <tr>\n",
              "      <th>0</th>\n",
              "      <td>Aruba</td>\n",
              "      <td>2015</td>\n",
              "      <td>NaN</td>\n",
              "    </tr>\n",
              "    <tr>\n",
              "      <th>1</th>\n",
              "      <td>Albania</td>\n",
              "      <td>2015</td>\n",
              "      <td>39.6</td>\n",
              "    </tr>\n",
              "    <tr>\n",
              "      <th>2</th>\n",
              "      <td>United Arab Emirates</td>\n",
              "      <td>2015</td>\n",
              "      <td>NaN</td>\n",
              "    </tr>\n",
              "    <tr>\n",
              "      <th>3</th>\n",
              "      <td>Argentina</td>\n",
              "      <td>2015</td>\n",
              "      <td>42.9</td>\n",
              "    </tr>\n",
              "    <tr>\n",
              "      <th>4</th>\n",
              "      <td>Armenia</td>\n",
              "      <td>2015</td>\n",
              "      <td>37.9</td>\n",
              "    </tr>\n",
              "    <tr>\n",
              "      <th>...</th>\n",
              "      <td>...</td>\n",
              "      <td>...</td>\n",
              "      <td>...</td>\n",
              "    </tr>\n",
              "    <tr>\n",
              "      <th>132</th>\n",
              "      <td>Vietnam</td>\n",
              "      <td>2015</td>\n",
              "      <td>41.3</td>\n",
              "    </tr>\n",
              "    <tr>\n",
              "      <th>133</th>\n",
              "      <td>Samoa</td>\n",
              "      <td>2015</td>\n",
              "      <td>NaN</td>\n",
              "    </tr>\n",
              "    <tr>\n",
              "      <th>134</th>\n",
              "      <td>Yemen</td>\n",
              "      <td>2015</td>\n",
              "      <td>NaN</td>\n",
              "    </tr>\n",
              "    <tr>\n",
              "      <th>135</th>\n",
              "      <td>South Africa</td>\n",
              "      <td>2015</td>\n",
              "      <td>43.3</td>\n",
              "    </tr>\n",
              "    <tr>\n",
              "      <th>136</th>\n",
              "      <td>Zimbabwe</td>\n",
              "      <td>2015</td>\n",
              "      <td>NaN</td>\n",
              "    </tr>\n",
              "  </tbody>\n",
              "</table>\n",
              "<p>137 rows × 3 columns</p>\n",
              "</div>"
            ],
            "text/plain": [
              "                  Country  Year  Hours\n",
              "0                   Aruba  2015    NaN\n",
              "1                 Albania  2015   39.6\n",
              "2    United Arab Emirates  2015    NaN\n",
              "3               Argentina  2015   42.9\n",
              "4                 Armenia  2015   37.9\n",
              "..                    ...   ...    ...\n",
              "132               Vietnam  2015   41.3\n",
              "133                 Samoa  2015    NaN\n",
              "134                 Yemen  2015    NaN\n",
              "135          South Africa  2015   43.3\n",
              "136              Zimbabwe  2015    NaN\n",
              "\n",
              "[137 rows x 3 columns]"
            ]
          },
          "metadata": {},
          "execution_count": 11
        }
      ]
    },
    {
      "cell_type": "markdown",
      "metadata": {
        "id": "8s1qszjaFUwj"
      },
      "source": [
        "# **Qualidade dos Dados**\n",
        "\n",
        "\n",
        "*   Verifiquei a quantidade de valores nulos em cada coluna do DataSet\n",
        "*   Desconsiderei os valores nulos\n",
        "*   Em seguida utilizei o método *describe()* analisar novamente os dados\n",
        "\n"
      ]
    },
    {
      "cell_type": "code",
      "metadata": {
        "colab": {
          "base_uri": "https://localhost:8080/",
          "height": 569
        },
        "id": "Afs7HNvc7mjb",
        "outputId": "026fb653-6226-4560-b0c1-eacac40207fd"
      },
      "source": [
        "\n",
        "print(f'Verificando valores nulos\\n')\n",
        "display(df1.isnull().sum())\n",
        "\n",
        "# Retirando os valores nulos da coluna Hours\n",
        "df1 = df1[~ np.isnan(df1['Hours'])]\n",
        "\n",
        "print(f'\\nValores Nulos desconsiderados\\n')\n",
        "display(df1.isnull().sum())\n",
        "\n",
        "print(f'\\nDescrição resumido dos dados\\n')\n",
        "display(df1.describe())"
      ],
      "execution_count": 12,
      "outputs": [
        {
          "output_type": "stream",
          "name": "stdout",
          "text": [
            "Verificando valores nulos\n",
            "\n"
          ]
        },
        {
          "output_type": "display_data",
          "data": {
            "text/plain": [
              "Country     0\n",
              "Year        0\n",
              "Hours      48\n",
              "dtype: int64"
            ]
          },
          "metadata": {}
        },
        {
          "output_type": "stream",
          "name": "stdout",
          "text": [
            "\n",
            "Valores Nulos desconsiderados\n",
            "\n"
          ]
        },
        {
          "output_type": "display_data",
          "data": {
            "text/plain": [
              "Country    0\n",
              "Year       0\n",
              "Hours      0\n",
              "dtype: int64"
            ]
          },
          "metadata": {}
        },
        {
          "output_type": "stream",
          "name": "stdout",
          "text": [
            "\n",
            "Descrição resumido dos dados\n",
            "\n"
          ]
        },
        {
          "output_type": "display_data",
          "data": {
            "text/html": [
              "<div>\n",
              "<style scoped>\n",
              "    .dataframe tbody tr th:only-of-type {\n",
              "        vertical-align: middle;\n",
              "    }\n",
              "\n",
              "    .dataframe tbody tr th {\n",
              "        vertical-align: top;\n",
              "    }\n",
              "\n",
              "    .dataframe thead th {\n",
              "        text-align: right;\n",
              "    }\n",
              "</style>\n",
              "<table border=\"1\" class=\"dataframe\">\n",
              "  <thead>\n",
              "    <tr style=\"text-align: right;\">\n",
              "      <th></th>\n",
              "      <th>Hours</th>\n",
              "    </tr>\n",
              "  </thead>\n",
              "  <tbody>\n",
              "    <tr>\n",
              "      <th>count</th>\n",
              "      <td>89.000000</td>\n",
              "    </tr>\n",
              "    <tr>\n",
              "      <th>mean</th>\n",
              "      <td>40.230337</td>\n",
              "    </tr>\n",
              "    <tr>\n",
              "      <th>std</th>\n",
              "      <td>3.977476</td>\n",
              "    </tr>\n",
              "    <tr>\n",
              "      <th>min</th>\n",
              "      <td>32.400000</td>\n",
              "    </tr>\n",
              "    <tr>\n",
              "      <th>25%</th>\n",
              "      <td>37.400000</td>\n",
              "    </tr>\n",
              "    <tr>\n",
              "      <th>50%</th>\n",
              "      <td>39.500000</td>\n",
              "    </tr>\n",
              "    <tr>\n",
              "      <th>75%</th>\n",
              "      <td>42.900000</td>\n",
              "    </tr>\n",
              "    <tr>\n",
              "      <th>max</th>\n",
              "      <td>50.000000</td>\n",
              "    </tr>\n",
              "  </tbody>\n",
              "</table>\n",
              "</div>"
            ],
            "text/plain": [
              "           Hours\n",
              "count  89.000000\n",
              "mean   40.230337\n",
              "std     3.977476\n",
              "min    32.400000\n",
              "25%    37.400000\n",
              "50%    39.500000\n",
              "75%    42.900000\n",
              "max    50.000000"
            ]
          },
          "metadata": {}
        }
      ]
    },
    {
      "cell_type": "code",
      "metadata": {
        "id": "IlLByYL8PYrc",
        "colab": {
          "base_uri": "https://localhost:8080/",
          "height": 607
        },
        "outputId": "7711cec0-2c94-4144-89d2-7b840265ec89"
      },
      "source": [
        "ordenados = df1.sort_values(by= [\"Hours\",\"Country\"], ascending=False)\n",
        "ordenados = ordenados[ordenados['Hours'] > 35]\n",
        "\n",
        "plt.figure(figsize=(25,10))\n",
        "mpl.style.use(['seaborn'])\n",
        "sns.barplot(x=ordenados.Country, y=ordenados.Hours)\n",
        "plt.xticks(rotation=90)\n",
        "\n",
        "plt.show()\n"
      ],
      "execution_count": 32,
      "outputs": [
        {
          "output_type": "display_data",
          "data": {
            "image/png": "[encoded data removed]",
            "text/plain": [
              "<Figure size 1800x720 with 1 Axes>"
            ]
          },
          "metadata": {}
        }
      ]
    },
    {
      "cell_type": "code",
      "metadata": {
        "colab": {
          "base_uri": "https://localhost:8080/",
          "height": 544
        },
        "id": "HWVcsmWeqwtR",
        "outputId": "bffadd38-641d-4efe-ef60-053baf50682b"
      },
      "source": [
        "# Exploração incial dos dados do segundo DataSet: Life Expectancy\n",
        "\n",
        "df2 = pd.read_csv('https://raw.githubusercontent.com/Rogerio-mack/Visualizacao-de-Dados-em-Python/main/data/Life_Expectancy_Data.csv')\n",
        "df2.rename(columns={' BMI ':'BMI', 'Life expectancy ':'Life_expectancy'}, inplace=True)\n",
        "df2 = df2[df2.Year == 2015]\n",
        "df2 = df2[['Country','Year','Status','Adult Mortality','GDP','Population','Schooling']]\n",
        "\n",
        "print(f'Estrutura do DataFrame\\n')\n",
        "display(df2.shape)\n",
        "print(f'\\nPrimeiras 5 linhas do DataFrame\\n')\n",
        "display(df2.head())\n",
        "print(f'\\nÚltimas 5 linhas do DataFrame\\n')\n",
        "display(df2.tail())"
      ],
      "execution_count": null,
      "outputs": [
        {
          "output_type": "stream",
          "name": "stdout",
          "text": [
            "Estrutura do DataFrame\n",
            "\n"
          ]
        },
        {
          "output_type": "display_data",
          "data": {
            "text/plain": [
              "(183, 7)"
            ]
          },
          "metadata": {}
        },
        {
          "output_type": "stream",
          "name": "stdout",
          "text": [
            "\n",
            "Primeiras 5 linhas do DataFrame\n",
            "\n"
          ]
        },
        {
          "output_type": "display_data",
          "data": {
            "text/html": [
              "<div>\n",
              "<style scoped>\n",
              "    .dataframe tbody tr th:only-of-type {\n",
              "        vertical-align: middle;\n",
              "    }\n",
              "\n",
              "    .dataframe tbody tr th {\n",
              "        vertical-align: top;\n",
              "    }\n",
              "\n",
              "    .dataframe thead th {\n",
              "        text-align: right;\n",
              "    }\n",
              "</style>\n",
              "<table border=\"1\" class=\"dataframe\">\n",
              "  <thead>\n",
              "    <tr style=\"text-align: right;\">\n",
              "      <th></th>\n",
              "      <th>Country</th>\n",
              "      <th>Year</th>\n",
              "      <th>Status</th>\n",
              "      <th>Adult Mortality</th>\n",
              "      <th>GDP</th>\n",
              "      <th>Population</th>\n",
              "      <th>Schooling</th>\n",
              "    </tr>\n",
              "  </thead>\n",
              "  <tbody>\n",
              "    <tr>\n",
              "      <th>0</th>\n",
              "      <td>Afghanistan</td>\n",
              "      <td>2015</td>\n",
              "      <td>Developing</td>\n",
              "      <td>263.0</td>\n",
              "      <td>584.259210</td>\n",
              "      <td>33736494.0</td>\n",
              "      <td>10.1</td>\n",
              "    </tr>\n",
              "    <tr>\n",
              "      <th>16</th>\n",
              "      <td>Albania</td>\n",
              "      <td>2015</td>\n",
              "      <td>Developing</td>\n",
              "      <td>74.0</td>\n",
              "      <td>3954.227830</td>\n",
              "      <td>28873.0</td>\n",
              "      <td>14.2</td>\n",
              "    </tr>\n",
              "    <tr>\n",
              "      <th>32</th>\n",
              "      <td>Algeria</td>\n",
              "      <td>2015</td>\n",
              "      <td>Developing</td>\n",
              "      <td>19.0</td>\n",
              "      <td>4132.762920</td>\n",
              "      <td>39871528.0</td>\n",
              "      <td>14.4</td>\n",
              "    </tr>\n",
              "    <tr>\n",
              "      <th>48</th>\n",
              "      <td>Angola</td>\n",
              "      <td>2015</td>\n",
              "      <td>Developing</td>\n",
              "      <td>335.0</td>\n",
              "      <td>3695.793748</td>\n",
              "      <td>2785935.0</td>\n",
              "      <td>11.4</td>\n",
              "    </tr>\n",
              "    <tr>\n",
              "      <th>64</th>\n",
              "      <td>Antigua and Barbuda</td>\n",
              "      <td>2015</td>\n",
              "      <td>Developing</td>\n",
              "      <td>13.0</td>\n",
              "      <td>13566.954100</td>\n",
              "      <td>NaN</td>\n",
              "      <td>13.9</td>\n",
              "    </tr>\n",
              "  </tbody>\n",
              "</table>\n",
              "</div>"
            ],
            "text/plain": [
              "                Country  Year      Status  ...           GDP  Population  Schooling\n",
              "0           Afghanistan  2015  Developing  ...    584.259210  33736494.0       10.1\n",
              "16              Albania  2015  Developing  ...   3954.227830     28873.0       14.2\n",
              "32              Algeria  2015  Developing  ...   4132.762920  39871528.0       14.4\n",
              "48               Angola  2015  Developing  ...   3695.793748   2785935.0       11.4\n",
              "64  Antigua and Barbuda  2015  Developing  ...  13566.954100         NaN       13.9\n",
              "\n",
              "[5 rows x 7 columns]"
            ]
          },
          "metadata": {}
        },
        {
          "output_type": "stream",
          "name": "stdout",
          "text": [
            "\n",
            "Últimas 5 linhas do DataFrame\n",
            "\n"
          ]
        },
        {
          "output_type": "display_data",
          "data": {
            "text/html": [
              "<div>\n",
              "<style scoped>\n",
              "    .dataframe tbody tr th:only-of-type {\n",
              "        vertical-align: middle;\n",
              "    }\n",
              "\n",
              "    .dataframe tbody tr th {\n",
              "        vertical-align: top;\n",
              "    }\n",
              "\n",
              "    .dataframe thead th {\n",
              "        text-align: right;\n",
              "    }\n",
              "</style>\n",
              "<table border=\"1\" class=\"dataframe\">\n",
              "  <thead>\n",
              "    <tr style=\"text-align: right;\">\n",
              "      <th></th>\n",
              "      <th>Country</th>\n",
              "      <th>Year</th>\n",
              "      <th>Status</th>\n",
              "      <th>Adult Mortality</th>\n",
              "      <th>GDP</th>\n",
              "      <th>Population</th>\n",
              "      <th>Schooling</th>\n",
              "    </tr>\n",
              "  </thead>\n",
              "  <tbody>\n",
              "    <tr>\n",
              "      <th>2858</th>\n",
              "      <td>Venezuela (Bolivarian Republic of)</td>\n",
              "      <td>2015</td>\n",
              "      <td>Developing</td>\n",
              "      <td>157.0</td>\n",
              "      <td>NaN</td>\n",
              "      <td>NaN</td>\n",
              "      <td>14.3</td>\n",
              "    </tr>\n",
              "    <tr>\n",
              "      <th>2874</th>\n",
              "      <td>Viet Nam</td>\n",
              "      <td>2015</td>\n",
              "      <td>Developing</td>\n",
              "      <td>127.0</td>\n",
              "      <td>NaN</td>\n",
              "      <td>NaN</td>\n",
              "      <td>12.6</td>\n",
              "    </tr>\n",
              "    <tr>\n",
              "      <th>2890</th>\n",
              "      <td>Yemen</td>\n",
              "      <td>2015</td>\n",
              "      <td>Developing</td>\n",
              "      <td>224.0</td>\n",
              "      <td>NaN</td>\n",
              "      <td>NaN</td>\n",
              "      <td>9.0</td>\n",
              "    </tr>\n",
              "    <tr>\n",
              "      <th>2906</th>\n",
              "      <td>Zambia</td>\n",
              "      <td>2015</td>\n",
              "      <td>Developing</td>\n",
              "      <td>33.0</td>\n",
              "      <td>1313.889646</td>\n",
              "      <td>161587.0</td>\n",
              "      <td>12.5</td>\n",
              "    </tr>\n",
              "    <tr>\n",
              "      <th>2922</th>\n",
              "      <td>Zimbabwe</td>\n",
              "      <td>2015</td>\n",
              "      <td>Developing</td>\n",
              "      <td>336.0</td>\n",
              "      <td>118.693830</td>\n",
              "      <td>15777451.0</td>\n",
              "      <td>10.3</td>\n",
              "    </tr>\n",
              "  </tbody>\n",
              "</table>\n",
              "</div>"
            ],
            "text/plain": [
              "                                 Country  Year  ...  Population  Schooling\n",
              "2858  Venezuela (Bolivarian Republic of)  2015  ...         NaN       14.3\n",
              "2874                            Viet Nam  2015  ...         NaN       12.6\n",
              "2890                               Yemen  2015  ...         NaN        9.0\n",
              "2906                              Zambia  2015  ...    161587.0       12.5\n",
              "2922                            Zimbabwe  2015  ...  15777451.0       10.3\n",
              "\n",
              "[5 rows x 7 columns]"
            ]
          },
          "metadata": {}
        }
      ]
    },
    {
      "cell_type": "code",
      "metadata": {
        "colab": {
          "base_uri": "https://localhost:8080/",
          "height": 419
        },
        "id": "V-dQyOGtvywq",
        "outputId": "328dfc28-ba7c-4d74-8fc8-636b83e68891"
      },
      "source": [
        "# Fazendo um merge entre os 2 DataSets, utilizando a coluna Country como parâmetro\n",
        "\n",
        "df2 = pd.merge(df2, df1[['Country','Hours']], on='Country')\n",
        "\n",
        "countryStatus = df2[['Country','Status','Adult Mortality','GDP','Population','Schooling','Hours_x']]\n",
        "countryStatus = countryStatus.rename(columns={'Hours_x':'Hours'})\n",
        "\n",
        "countryStatus\n"
      ],
      "execution_count": null,
      "outputs": [
        {
          "output_type": "execute_result",
          "data": {
            "text/html": [
              "<div>\n",
              "<style scoped>\n",
              "    .dataframe tbody tr th:only-of-type {\n",
              "        vertical-align: middle;\n",
              "    }\n",
              "\n",
              "    .dataframe tbody tr th {\n",
              "        vertical-align: top;\n",
              "    }\n",
              "\n",
              "    .dataframe thead th {\n",
              "        text-align: right;\n",
              "    }\n",
              "</style>\n",
              "<table border=\"1\" class=\"dataframe\">\n",
              "  <thead>\n",
              "    <tr style=\"text-align: right;\">\n",
              "      <th></th>\n",
              "      <th>Country</th>\n",
              "      <th>Status</th>\n",
              "      <th>Adult Mortality</th>\n",
              "      <th>GDP</th>\n",
              "      <th>Population</th>\n",
              "      <th>Schooling</th>\n",
              "      <th>Hours</th>\n",
              "    </tr>\n",
              "  </thead>\n",
              "  <tbody>\n",
              "    <tr>\n",
              "      <th>0</th>\n",
              "      <td>Albania</td>\n",
              "      <td>Developing</td>\n",
              "      <td>74.0</td>\n",
              "      <td>3954.227830</td>\n",
              "      <td>28873.0</td>\n",
              "      <td>14.2</td>\n",
              "      <td>39.6</td>\n",
              "    </tr>\n",
              "    <tr>\n",
              "      <th>1</th>\n",
              "      <td>Argentina</td>\n",
              "      <td>Developing</td>\n",
              "      <td>116.0</td>\n",
              "      <td>13467.123600</td>\n",
              "      <td>43417765.0</td>\n",
              "      <td>17.3</td>\n",
              "      <td>42.9</td>\n",
              "    </tr>\n",
              "    <tr>\n",
              "      <th>2</th>\n",
              "      <td>Armenia</td>\n",
              "      <td>Developing</td>\n",
              "      <td>118.0</td>\n",
              "      <td>369.654776</td>\n",
              "      <td>291695.0</td>\n",
              "      <td>12.7</td>\n",
              "      <td>37.9</td>\n",
              "    </tr>\n",
              "    <tr>\n",
              "      <th>3</th>\n",
              "      <td>Australia</td>\n",
              "      <td>Developed</td>\n",
              "      <td>59.0</td>\n",
              "      <td>56554.387600</td>\n",
              "      <td>23789338.0</td>\n",
              "      <td>20.4</td>\n",
              "      <td>33.4</td>\n",
              "    </tr>\n",
              "    <tr>\n",
              "      <th>4</th>\n",
              "      <td>Austria</td>\n",
              "      <td>Developed</td>\n",
              "      <td>65.0</td>\n",
              "      <td>43665.947000</td>\n",
              "      <td>8633169.0</td>\n",
              "      <td>15.9</td>\n",
              "      <td>35.6</td>\n",
              "    </tr>\n",
              "    <tr>\n",
              "      <th>...</th>\n",
              "      <td>...</td>\n",
              "      <td>...</td>\n",
              "      <td>...</td>\n",
              "      <td>...</td>\n",
              "      <td>...</td>\n",
              "      <td>...</td>\n",
              "      <td>...</td>\n",
              "    </tr>\n",
              "    <tr>\n",
              "      <th>68</th>\n",
              "      <td>Sweden</td>\n",
              "      <td>Developed</td>\n",
              "      <td>53.0</td>\n",
              "      <td>5585.258470</td>\n",
              "      <td>9799186.0</td>\n",
              "      <td>15.9</td>\n",
              "      <td>36.2</td>\n",
              "    </tr>\n",
              "    <tr>\n",
              "      <th>69</th>\n",
              "      <td>Switzerland</td>\n",
              "      <td>Developed</td>\n",
              "      <td>49.0</td>\n",
              "      <td>8989.842400</td>\n",
              "      <td>8282396.0</td>\n",
              "      <td>16.0</td>\n",
              "      <td>36.6</td>\n",
              "    </tr>\n",
              "    <tr>\n",
              "      <th>70</th>\n",
              "      <td>Thailand</td>\n",
              "      <td>Developing</td>\n",
              "      <td>148.0</td>\n",
              "      <td>5814.863134</td>\n",
              "      <td>686576.0</td>\n",
              "      <td>13.6</td>\n",
              "      <td>43.2</td>\n",
              "    </tr>\n",
              "    <tr>\n",
              "      <th>71</th>\n",
              "      <td>Turkey</td>\n",
              "      <td>Developing</td>\n",
              "      <td>16.0</td>\n",
              "      <td>1979.525690</td>\n",
              "      <td>78271472.0</td>\n",
              "      <td>14.5</td>\n",
              "      <td>46.4</td>\n",
              "    </tr>\n",
              "    <tr>\n",
              "      <th>72</th>\n",
              "      <td>Ukraine</td>\n",
              "      <td>Developing</td>\n",
              "      <td>195.0</td>\n",
              "      <td>2124.662666</td>\n",
              "      <td>4515429.0</td>\n",
              "      <td>15.3</td>\n",
              "      <td>39.0</td>\n",
              "    </tr>\n",
              "  </tbody>\n",
              "</table>\n",
              "<p>73 rows × 7 columns</p>\n",
              "</div>"
            ],
            "text/plain": [
              "        Country      Status  Adult Mortality  ...  Population  Schooling  Hours\n",
              "0       Albania  Developing             74.0  ...     28873.0       14.2   39.6\n",
              "1     Argentina  Developing            116.0  ...  43417765.0       17.3   42.9\n",
              "2       Armenia  Developing            118.0  ...    291695.0       12.7   37.9\n",
              "3     Australia   Developed             59.0  ...  23789338.0       20.4   33.4\n",
              "4       Austria   Developed             65.0  ...   8633169.0       15.9   35.6\n",
              "..          ...         ...              ...  ...         ...        ...    ...\n",
              "68       Sweden   Developed             53.0  ...   9799186.0       15.9   36.2\n",
              "69  Switzerland   Developed             49.0  ...   8282396.0       16.0   36.6\n",
              "70     Thailand  Developing            148.0  ...    686576.0       13.6   43.2\n",
              "71       Turkey  Developing             16.0  ...  78271472.0       14.5   46.4\n",
              "72      Ukraine  Developing            195.0  ...   4515429.0       15.3   39.0\n",
              "\n",
              "[73 rows x 7 columns]"
            ]
          },
          "metadata": {},
          "execution_count": 12
        }
      ]
    },
    {
      "cell_type": "code",
      "metadata": {
        "colab": {
          "base_uri": "https://localhost:8080/",
          "height": 461
        },
        "id": "bzBmvmQG143P",
        "outputId": "c1c4b036-241b-491f-b4e8-8221c25c07ec"
      },
      "source": [
        "#\n",
        "\n",
        "plt.figure(figsize=(10,5))\n",
        "plt.boxplot(countryStatus[countryStatus.Status == 'Developing'].Hours,positions=[1],showfliers=False)\n",
        "plt.boxplot(countryStatus[countryStatus.Status == 'Developed'].Hours,positions=[2],showfliers=False)\n",
        "plt.title('Distribuição de Horas Trabalhadas por Semana (Desenvolvidos & Em Desenvolvimento)')\n",
        "plt.xticks(ticks=[1,2],labels=['Em Desenvolvimento','Desenvolvidos'])\n",
        "plt.show()\n",
        "\n",
        "desc = (countryStatus.groupby('Status').Hours).agg(['min','max','mean'])\n",
        "display(desc)\n",
        "\n"
      ],
      "execution_count": null,
      "outputs": [
        {
          "output_type": "display_data",
          "data": {
            "image/png": "[encoded data removed]",
            "text/plain": [
              "<Figure size 720x360 with 1 Axes>"
            ]
          },
          "metadata": {
            "needs_background": "light"
          }
        },
        {
          "output_type": "display_data",
          "data": {
            "text/html": [
              "<div>\n",
              "<style scoped>\n",
              "    .dataframe tbody tr th:only-of-type {\n",
              "        vertical-align: middle;\n",
              "    }\n",
              "\n",
              "    .dataframe tbody tr th {\n",
              "        vertical-align: top;\n",
              "    }\n",
              "\n",
              "    .dataframe thead th {\n",
              "        text-align: right;\n",
              "    }\n",
              "</style>\n",
              "<table border=\"1\" class=\"dataframe\">\n",
              "  <thead>\n",
              "    <tr style=\"text-align: right;\">\n",
              "      <th></th>\n",
              "      <th>min</th>\n",
              "      <th>max</th>\n",
              "      <th>mean</th>\n",
              "    </tr>\n",
              "    <tr>\n",
              "      <th>Status</th>\n",
              "      <th></th>\n",
              "      <th></th>\n",
              "      <th></th>\n",
              "    </tr>\n",
              "  </thead>\n",
              "  <tbody>\n",
              "    <tr>\n",
              "      <th>Developed</th>\n",
              "      <td>32.4</td>\n",
              "      <td>40.5</td>\n",
              "      <td>37.207407</td>\n",
              "    </tr>\n",
              "    <tr>\n",
              "      <th>Developing</th>\n",
              "      <td>32.6</td>\n",
              "      <td>50.0</td>\n",
              "      <td>41.897826</td>\n",
              "    </tr>\n",
              "  </tbody>\n",
              "</table>\n",
              "</div>"
            ],
            "text/plain": [
              "             min   max       mean\n",
              "Status                           \n",
              "Developed   32.4  40.5  37.207407\n",
              "Developing  32.6  50.0  41.897826"
            ]
          },
          "metadata": {}
        }
      ]
    }
  ]
}