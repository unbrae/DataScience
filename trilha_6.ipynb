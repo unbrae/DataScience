{
  "nbformat": 4,
  "nbformat_minor": 0,
  "metadata": {
    "colab": {
      "name": "trilha_6.ipynb",
      "provenance": [],
      "authorship_tag": "ABX9TyP7HgGeelIniFq+qfG4eaKu",
      "include_colab_link": true
    },
    "kernelspec": {
      "name": "ir",
      "display_name": "R"
    },
    "language_info": {
      "name": "R"
    }
  },
  "cells": [
    {
      "cell_type": "markdown",
      "metadata": {
        "id": "view-in-github",
        "colab_type": "text"
      },
      "source": [
        "<a href=\"https://colab.research.google.com/github/unbrae/DataScience/blob/main/trilha_6.ipynb\" target=\"_parent\"><img src=\"https://colab.research.google.com/assets/colab-badge.svg\" alt=\"Open In Colab\"/></a>"
      ]
    },
    {
      "cell_type": "code",
      "metadata": {
        "colab": {
          "base_uri": "https://localhost:8080/",
          "height": 248
        },
        "id": "Eei-KqVfyW_Q",
        "outputId": "7a0597e1-30fb-45f9-9b28-12243f4e4752"
      },
      "source": [
        "install.packages(\"installr\")\n",
        "library(installr)\n",
        "updateR()\n",
        "\n",
        "version10"
      ],
      "execution_count": 4,
      "outputs": [
        {
          "output_type": "stream",
          "name": "stderr",
          "text": [
            "Installing package into ‘/usr/local/lib/R/site-library’\n",
            "(as ‘lib’ is unspecified)\n",
            "\n",
            "Warning message in get.installed.R.folders():\n",
            "“Could not find any R installation on your system. (You might have installed your R version on 'c:\\R' without sub folders...”\n"
          ]
        },
        {
          "output_type": "error",
          "ename": "ERROR",
          "evalue": "ignored",
          "traceback": [
            "Error in winDialog(type = \"ok\", message = message_text): could not find function \"winDialog\"\nTraceback:\n",
            "1. updateR()",
            "2. check.for.updates.R(print_R_versions, GUI = GUI, page_with_download_url = paste0(cran_mirror, \n .     \"bin/windows/base/\"))"
          ]
        }
      ]
    },
    {
      "cell_type": "code",
      "metadata": {
        "colab": {
          "base_uri": "https://localhost:8080/"
        },
        "id": "Cx5rj84xzFMQ",
        "outputId": "91084819-c821-4e0b-fdfe-81bfb61adf70"
      },
      "source": [
        "install.packages('devtools')\n",
        "library(devtools)"
      ],
      "execution_count": 3,
      "outputs": [
        {
          "output_type": "stream",
          "name": "stderr",
          "text": [
            "Installing package into ‘/usr/local/lib/R/site-library’\n",
            "(as ‘lib’ is unspecified)\n",
            "\n",
            "Loading required package: usethis\n",
            "\n"
          ]
        }
      ]
    },
    {
      "cell_type": "code",
      "metadata": {
        "colab": {
          "base_uri": "https://localhost:8080/"
        },
        "id": "twXgW1P7zN_A",
        "outputId": "458e7870-7406-4dc0-b66c-d0f582998f83"
      },
      "source": [
        "install.packages('tidyverse',dependencies = TRUE)\n",
        "library(tidyverse)"
      ],
      "execution_count": 5,
      "outputs": [
        {
          "output_type": "stream",
          "name": "stderr",
          "text": [
            "Installing package into ‘/usr/local/lib/R/site-library’\n",
            "(as ‘lib’ is unspecified)\n",
            "\n",
            "also installing the dependencies ‘lazyeval’, ‘rex’, ‘covr’, ‘feather’\n",
            "\n",
            "\n",
            "Warning message in system(\"timedatectl\", intern = TRUE):\n",
            "“running command 'timedatectl' had status 1”\n",
            "── \u001b[1mAttaching packages\u001b[22m ─────────────────────────────────────── tidyverse 1.3.1 ──\n",
            "\n",
            "\u001b[32m✔\u001b[39m \u001b[34mggplot2\u001b[39m 3.3.5     \u001b[32m✔\u001b[39m \u001b[34mpurrr  \u001b[39m 0.3.4\n",
            "\u001b[32m✔\u001b[39m \u001b[34mtibble \u001b[39m 3.1.3     \u001b[32m✔\u001b[39m \u001b[34mdplyr  \u001b[39m 1.0.7\n",
            "\u001b[32m✔\u001b[39m \u001b[34mtidyr  \u001b[39m 1.1.3     \u001b[32m✔\u001b[39m \u001b[34mstringr\u001b[39m 1.4.0\n",
            "\u001b[32m✔\u001b[39m \u001b[34mreadr  \u001b[39m 2.0.1     \u001b[32m✔\u001b[39m \u001b[34mforcats\u001b[39m 0.5.1\n",
            "\n",
            "── \u001b[1mConflicts\u001b[22m ────────────────────────────────────────── tidyverse_conflicts() ──\n",
            "\u001b[31m✖\u001b[39m \u001b[34mdplyr\u001b[39m::\u001b[32mfilter()\u001b[39m masks \u001b[34mstats\u001b[39m::filter()\n",
            "\u001b[31m✖\u001b[39m \u001b[34mdplyr\u001b[39m::\u001b[32mlag()\u001b[39m    masks \u001b[34mstats\u001b[39m::lag()\n",
            "\n"
          ]
        }
      ]
    },
    {
      "cell_type": "code",
      "metadata": {
        "id": "bRIJeQW80qKw"
      },
      "source": [
        "URL <- \"http://ww2.amstat.org/sections/graphics/datasets/DataExpo2009.zip\"\n",
        "nomeArquivo <- \"arquivo_baixado\""
      ],
      "execution_count": 13,
      "outputs": []
    },
    {
      "cell_type": "code",
      "metadata": {
        "id": "S7LkQkGZ07JP"
      },
      "source": [
        "download.file(URL,nomeArquivo)"
      ],
      "execution_count": 14,
      "outputs": []
    },
    {
      "cell_type": "code",
      "metadata": {
        "id": "Ke_OqvZo2HHb"
      },
      "source": [
        "unzip(nomeArquivo)"
      ],
      "execution_count": 15,
      "outputs": []
    },
    {
      "cell_type": "code",
      "metadata": {
        "colab": {
          "base_uri": "https://localhost:8080/"
        },
        "id": "HbMAsQoL2RdZ",
        "outputId": "2023ece5-593f-4634-bf4b-ec1605c8d99c"
      },
      "source": [
        "voos2008 <- read_csv(\"DataExpo2009//2008.csv.bz2\")"
      ],
      "execution_count": 21,
      "outputs": [
        {
          "output_type": "stream",
          "name": "stderr",
          "text": [
            "\u001b[1m\u001b[1mRows: \u001b[1m\u001b[22m\u001b[34m\u001b[34m7009728\u001b[34m\u001b[39m \u001b[1m\u001b[1mColumns: \u001b[1m\u001b[22m\u001b[34m\u001b[34m29\u001b[34m\u001b[39m\n",
            "\n",
            "\u001b[36m──\u001b[39m \u001b[1m\u001b[1mColumn specification\u001b[1m\u001b[22m \u001b[36m────────────────────────────────────────────────────────\u001b[39m\n",
            "\u001b[1mDelimiter:\u001b[22m \",\"\n",
            "\u001b[31mchr\u001b[39m  (5): UniqueCarrier, TailNum, Origin, Dest, CancellationCode\n",
            "\u001b[32mdbl\u001b[39m (24): Year, Month, DayofMonth, DayOfWeek, DepTime, CRSDepTime, ArrTime, ...\n",
            "\n",
            "\n",
            "\u001b[36mℹ\u001b[39m Use \u001b[30m\u001b[47m\u001b[30m\u001b[47m`spec()`\u001b[47m\u001b[30m\u001b[49m\u001b[39m to retrieve the full column specification for this data.\n",
            "\u001b[36mℹ\u001b[39m Specify the column types or set \u001b[30m\u001b[47m\u001b[30m\u001b[47m`show_col_types = FALSE`\u001b[47m\u001b[30m\u001b[49m\u001b[39m to quiet this message.\n",
            "\n"
          ]
        }
      ]
    },
    {
      "cell_type": "code",
      "metadata": {
        "colab": {
          "base_uri": "https://localhost:8080/",
          "height": 1000
        },
        "id": "1PGuSWxr30QK",
        "outputId": "e94a7d04-76b4-4fb2-ec3b-d1c933c0dbab"
      },
      "source": [
        "set.seed(42)\n",
        "\n",
        "sampleDados <- sample_n(voos2008,100000)\n",
        "str(sampleDados)\n",
        "\n",
        "head(sampleDados$TailNum)"
      ],
      "execution_count": 22,
      "outputs": [
        {
          "output_type": "stream",
          "name": "stdout",
          "text": [
            "spec_tbl_df [100,000 × 29] (S3: spec_tbl_df/tbl_df/tbl/data.frame)\n",
            " $ Year             : num [1:100000] 2008 2008 2008 2008 2008 ...\n",
            " $ Month            : num [1:100000] 6 8 8 2 6 6 8 10 3 5 ...\n",
            " $ DayofMonth       : num [1:100000] 26 7 12 10 17 22 18 28 29 31 ...\n",
            " $ DayOfWeek        : num [1:100000] 4 4 2 7 2 7 1 2 6 6 ...\n",
            " $ DepTime          : num [1:100000] 1156 1906 1513 245 940 ...\n",
            " $ CRSDepTime       : num [1:100000] 1133 1905 1345 2220 934 ...\n",
            " $ ArrTime          : num [1:100000] 1244 2004 1919 1009 1018 ...\n",
            " $ CRSArrTime       : num [1:100000] 1227 2010 1815 603 1019 ...\n",
            " $ UniqueCarrier    : chr [1:100000] \"OO\" \"WN\" \"CO\" \"B6\" ...\n",
            " $ FlightNum        : num [1:100000] 5841 2019 217 316 5742 ...\n",
            " $ TailNum          : chr [1:100000] \"N913SW\" \"N212WN\" \"N69602\" \"N550JB\" ...\n",
            " $ ActualElapsedTime: num [1:100000] 48 58 186 264 38 68 204 211 233 127 ...\n",
            " $ CRSElapsedTime   : num [1:100000] 54 65 210 283 45 75 227 205 230 127 ...\n",
            " $ AirTime          : num [1:100000] 33 52 151 245 24 46 189 194 216 109 ...\n",
            " $ ArrDelay         : num [1:100000] 17 -6 64 246 -1 -6 -25 3 -5 71 ...\n",
            " $ DepDelay         : num [1:100000] 23 1 88 265 6 1 -2 -3 -8 71 ...\n",
            " $ Origin           : chr [1:100000] \"BMI\" \"OAK\" \"MSY\" \"SAN\" ...\n",
            " $ Dest             : chr [1:100000] \"ORD\" \"BUR\" \"EWR\" \"IAD\" ...\n",
            " $ Distance         : num [1:100000] 116 325 1167 2253 86 ...\n",
            " $ TaxiIn           : num [1:100000] 5 2 16 3 4 5 6 3 6 5 ...\n",
            " $ TaxiOut          : num [1:100000] 10 4 19 16 10 17 9 14 11 13 ...\n",
            " $ Cancelled        : num [1:100000] 0 0 0 0 0 0 0 0 0 0 ...\n",
            " $ CancellationCode : chr [1:100000] NA NA NA NA ...\n",
            " $ Diverted         : num [1:100000] 0 0 0 0 0 0 0 0 0 0 ...\n",
            " $ CarrierDelay     : num [1:100000] 0 NA 0 179 NA NA NA NA NA 71 ...\n",
            " $ WeatherDelay     : num [1:100000] 0 NA 0 0 NA NA NA NA NA 0 ...\n",
            " $ NASDelay         : num [1:100000] 0 NA 64 0 NA NA NA NA NA 0 ...\n",
            " $ SecurityDelay    : num [1:100000] 0 NA 0 0 NA NA NA NA NA 0 ...\n",
            " $ LateAircraftDelay: num [1:100000] 17 NA 0 67 NA NA NA NA NA 0 ...\n",
            " - attr(*, \"spec\")=\n",
            "  .. cols(\n",
            "  ..   Year = \u001b[32mcol_double()\u001b[39m,\n",
            "  ..   Month = \u001b[32mcol_double()\u001b[39m,\n",
            "  ..   DayofMonth = \u001b[32mcol_double()\u001b[39m,\n",
            "  ..   DayOfWeek = \u001b[32mcol_double()\u001b[39m,\n",
            "  ..   DepTime = \u001b[32mcol_double()\u001b[39m,\n",
            "  ..   CRSDepTime = \u001b[32mcol_double()\u001b[39m,\n",
            "  ..   ArrTime = \u001b[32mcol_double()\u001b[39m,\n",
            "  ..   CRSArrTime = \u001b[32mcol_double()\u001b[39m,\n",
            "  ..   UniqueCarrier = \u001b[31mcol_character()\u001b[39m,\n",
            "  ..   FlightNum = \u001b[32mcol_double()\u001b[39m,\n",
            "  ..   TailNum = \u001b[31mcol_character()\u001b[39m,\n",
            "  ..   ActualElapsedTime = \u001b[32mcol_double()\u001b[39m,\n",
            "  ..   CRSElapsedTime = \u001b[32mcol_double()\u001b[39m,\n",
            "  ..   AirTime = \u001b[32mcol_double()\u001b[39m,\n",
            "  ..   ArrDelay = \u001b[32mcol_double()\u001b[39m,\n",
            "  ..   DepDelay = \u001b[32mcol_double()\u001b[39m,\n",
            "  ..   Origin = \u001b[31mcol_character()\u001b[39m,\n",
            "  ..   Dest = \u001b[31mcol_character()\u001b[39m,\n",
            "  ..   Distance = \u001b[32mcol_double()\u001b[39m,\n",
            "  ..   TaxiIn = \u001b[32mcol_double()\u001b[39m,\n",
            "  ..   TaxiOut = \u001b[32mcol_double()\u001b[39m,\n",
            "  ..   Cancelled = \u001b[32mcol_double()\u001b[39m,\n",
            "  ..   CancellationCode = \u001b[31mcol_character()\u001b[39m,\n",
            "  ..   Diverted = \u001b[32mcol_double()\u001b[39m,\n",
            "  ..   CarrierDelay = \u001b[32mcol_double()\u001b[39m,\n",
            "  ..   WeatherDelay = \u001b[32mcol_double()\u001b[39m,\n",
            "  ..   NASDelay = \u001b[32mcol_double()\u001b[39m,\n",
            "  ..   SecurityDelay = \u001b[32mcol_double()\u001b[39m,\n",
            "  ..   LateAircraftDelay = \u001b[32mcol_double()\u001b[39m\n",
            "  .. )\n",
            " - attr(*, \"problems\")=<externalptr> \n"
          ]
        },
        {
          "output_type": "display_data",
          "data": {
            "text/plain": [
              "[1] \"N913SW\" \"N212WN\" \"N69602\" \"N550JB\" \"N284YV\" \"N305SW\""
            ],
            "text/latex": "\\begin{enumerate*}\n\\item 'N913SW'\n\\item 'N212WN'\n\\item 'N69602'\n\\item 'N550JB'\n\\item 'N284YV'\n\\item 'N305SW'\n\\end{enumerate*}\n",
            "text/markdown": "1. 'N913SW'\n2. 'N212WN'\n3. 'N69602'\n4. 'N550JB'\n5. 'N284YV'\n6. 'N305SW'\n\n\n",
            "text/html": [
              "<style>\n",
              ".list-inline {list-style: none; margin:0; padding: 0}\n",
              ".list-inline>li {display: inline-block}\n",
              ".list-inline>li:not(:last-child)::after {content: \"\\00b7\"; padding: 0 .5ex}\n",
              "</style>\n",
              "<ol class=list-inline><li>'N913SW'</li><li>'N212WN'</li><li>'N69602'</li><li>'N550JB'</li><li>'N284YV'</li><li>'N305SW'</li></ol>\n"
            ]
          },
          "metadata": {}
        }
      ]
    },
    {
      "cell_type": "code",
      "metadata": {
        "id": "OsLyEW9A4cB2"
      },
      "source": [
        "write_csv(sampleDados,'voos2008.csv')"
      ],
      "execution_count": 23,
      "outputs": []
    },
    {
      "cell_type": "markdown",
      "metadata": {
        "id": "BJLdvgzX6Rpy"
      },
      "source": [
        "***Variável = Descrição***\n",
        "****\n",
        "**Year** = 1987-2008\n",
        "\n",
        "**Month** = 1-12\n",
        "\n",
        "**DayOfMonth** = 1-31\n",
        "\n",
        "**DayOfWeek** = 1 (segunda-feira) - 7 (domingo)\n",
        "\n",
        "**DepTime** = Hora de partida real (local, hhmm)\n",
        "\n",
        "**CRSDepTime** = Hora de partida programada (local, hhmm)\n",
        "\n",
        "**ArrTime** = Hora de chegada real (local, hhmm)\n",
        "\n",
        "**CRSArrTime** = Hora de chegada programada (local, hhmm)\n",
        "\n",
        "**UniqueCarrier** = Código de operadora único\n",
        "\n",
        "**FlightNum** = Número do voo\n",
        "\n",
        "**TailNum** = Número da cauda do avião\n",
        "\n",
        "**ActualElapsedTime** = Tempo real de voo em minutos\n",
        "\n",
        "**CRSElapsedTime** = Tempo programado de voo em minutos\n",
        "\n",
        "**AirTime** = Tempo de voo em minutos\n",
        "\n",
        "**ArrDelay** = Atraso de chegada, em minutos\n",
        "\n",
        "**DepDelay** = Atraso de partida, em minutos\n",
        "\n",
        "**Origin** = Código de aeroporto IATA de origem\n",
        "\n",
        "**Dest** = Código de aeroporto IATA de destino\n",
        "\n",
        "**Distance** = Distância em milhas\n",
        "\n",
        "**TaxiIn** = Tempo taxiando no pouso, em minutos\n",
        "\n",
        "**TaxiOut** = Tempo taxiando na decolagem, em minutos\n",
        "\n",
        "**Cancelled** = Voo foi cancelado?\n",
        "\n",
        "**CancellationCode** = Motivo do cancelamento (A = operadora, B = clima, C = NAS, D = segurança)\n",
        "\n",
        "**Diverted** = 1 = sim, 0 = não\n",
        "\n",
        "**CarrierDelay** = Atraso da operadora em minutos\n",
        "\n",
        "**WeatherDelay** = Atraso do clima em minutos\n",
        "\n",
        "**NASDelay** = Atraso NAS em minutos\n",
        "\n",
        "**SecurityDelay** = Atraso da segurança em minutos\n",
        "\n",
        "**LateAircraftDelay** = Atraso da aeronave em minutos."
      ]
    },
    {
      "cell_type": "code",
      "metadata": {
        "id": "k6Az_3ng61td"
      },
      "source": [
        "novoDataset <- voos2008 %>%\n",
        "\n",
        "select(Year,Month,DayofMonth,DepTime,DepDelay,ArrDelay,Cancelled)%>%\n",
        "#filter(Month==9)\n",
        "\n",
        "select(Month,DepDelay)%>%\n",
        "group_by(Month)%>%\n",
        "mutate(atrasoMedio = mean(DepDelay, na.rm = TRUE))%>%\n",
        "select(Month,atrasoMedio)%>%\n",
        "unique()%>%\n",
        "arrange(atrasoMedio)\n",
        "#str(novoDataset)\n",
        "#head(novoDataset)"
      ],
      "execution_count": 61,
      "outputs": []
    },
    {
      "cell_type": "code",
      "metadata": {
        "colab": {
          "base_uri": "https://localhost:8080/",
          "height": 469
        },
        "id": "BbZqRsGLCZAr",
        "outputId": "0c3f3007-eb42-499d-b076-0747831349e1"
      },
      "source": [
        "voos2008 %>%\n",
        "select(Month,DepDelay)%>%\n",
        "group_by(Month)%>%\n",
        "mutate(atrasoMedio = mean(DepDelay, na.rm = TRUE))%>%\n",
        "select(Month,atrasoMedio)%>%\n",
        "unique()%>%\n",
        "arrange(atrasoMedio)"
      ],
      "execution_count": 62,
      "outputs": [
        {
          "output_type": "display_data",
          "data": {
            "text/plain": [
              "   Month atrasoMedio\n",
              "1  10     3.803488  \n",
              "2   9     3.961819  \n",
              "3  11     5.420469  \n",
              "4   5     7.642741  \n",
              "5   4     8.201133  \n",
              "6   8     9.614753  \n",
              "7   1    11.476096  \n",
              "8   7    11.807545  \n",
              "9   3    12.491269  \n",
              "10  6    13.609818  \n",
              "11  2    13.706226  \n",
              "12 12    17.304380  "
            ],
            "text/latex": "A grouped\\_df: 12 × 2\n\\begin{tabular}{ll}\n Month & atrasoMedio\\\\\n <dbl> & <dbl>\\\\\n\\hline\n\t 10 &  3.803488\\\\\n\t  9 &  3.961819\\\\\n\t 11 &  5.420469\\\\\n\t  5 &  7.642741\\\\\n\t  4 &  8.201133\\\\\n\t  8 &  9.614753\\\\\n\t  1 & 11.476096\\\\\n\t  7 & 11.807545\\\\\n\t  3 & 12.491269\\\\\n\t  6 & 13.609818\\\\\n\t  2 & 13.706226\\\\\n\t 12 & 17.304380\\\\\n\\end{tabular}\n",
            "text/markdown": "\nA grouped_df: 12 × 2\n\n| Month &lt;dbl&gt; | atrasoMedio &lt;dbl&gt; |\n|---|---|\n| 10 |  3.803488 |\n|  9 |  3.961819 |\n| 11 |  5.420469 |\n|  5 |  7.642741 |\n|  4 |  8.201133 |\n|  8 |  9.614753 |\n|  1 | 11.476096 |\n|  7 | 11.807545 |\n|  3 | 12.491269 |\n|  6 | 13.609818 |\n|  2 | 13.706226 |\n| 12 | 17.304380 |\n\n",
            "text/html": [
              "<table class=\"dataframe\">\n",
              "<caption>A grouped_df: 12 × 2</caption>\n",
              "<thead>\n",
              "\t<tr><th scope=col>Month</th><th scope=col>atrasoMedio</th></tr>\n",
              "\t<tr><th scope=col>&lt;dbl&gt;</th><th scope=col>&lt;dbl&gt;</th></tr>\n",
              "</thead>\n",
              "<tbody>\n",
              "\t<tr><td>10</td><td> 3.803488</td></tr>\n",
              "\t<tr><td> 9</td><td> 3.961819</td></tr>\n",
              "\t<tr><td>11</td><td> 5.420469</td></tr>\n",
              "\t<tr><td> 5</td><td> 7.642741</td></tr>\n",
              "\t<tr><td> 4</td><td> 8.201133</td></tr>\n",
              "\t<tr><td> 8</td><td> 9.614753</td></tr>\n",
              "\t<tr><td> 1</td><td>11.476096</td></tr>\n",
              "\t<tr><td> 7</td><td>11.807545</td></tr>\n",
              "\t<tr><td> 3</td><td>12.491269</td></tr>\n",
              "\t<tr><td> 6</td><td>13.609818</td></tr>\n",
              "\t<tr><td> 2</td><td>13.706226</td></tr>\n",
              "\t<tr><td>12</td><td>17.304380</td></tr>\n",
              "</tbody>\n",
              "</table>\n"
            ]
          },
          "metadata": {}
        }
      ]
    }
  ]
}